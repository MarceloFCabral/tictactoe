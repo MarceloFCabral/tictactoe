{
 "cells": [
  {
   "cell_type": "code",
   "execution_count": 1,
   "metadata": {},
   "outputs": [],
   "source": [
    "# Display the board\n",
    "\n",
    "from IPython.display import clear_output\n",
    "\n",
    "def display_board(board):\n",
    "    clear_output()# Clears previously printed boards\n",
    "    print(board[7]+'|'+board[8]+'|'+board[9])\n",
    "    print(board[4]+'|'+board[5]+'|'+board[6])\n",
    "    print(board[1]+'|'+board[2]+'|'+board[3])"
   ]
  },
  {
   "cell_type": "code",
   "execution_count": 2,
   "metadata": {},
   "outputs": [
    {
     "name": "stdout",
     "output_type": "stream",
     "text": [
      " | | \n",
      " | | \n",
      " | | \n"
     ]
    }
   ],
   "source": [
    "test_board = [' ']*10\n",
    "display_board(test_board)"
   ]
  },
  {
   "cell_type": "code",
   "execution_count": 3,
   "metadata": {},
   "outputs": [],
   "source": [
    "# Make player input possible\n",
    "def player_input():\n",
    "    marker = ''\n",
    "    \n",
    "    # Keep asking player 1 to choose X or O:\n",
    "    \n",
    "    # Assign player 2 the opposite marker.\n",
    "    \n",
    "    while marker != 'X' and marker != 'O':\n",
    "        marker = input('Do you want to be X or O?: ')\n",
    "    \n",
    "    player1 = marker\n",
    "    \n",
    "    if player1 == 'X':\n",
    "        player2 = 'O'\n",
    "    else:\n",
    "        player2 = 'X'\n",
    "    return (player1,player2)"
   ]
  },
  {
   "cell_type": "code",
   "execution_count": 10,
   "metadata": {},
   "outputs": [],
   "source": [
    "def playing():\n",
    "    player1_marker , player2_marker = player_input()\n",
    "    \n",
    "    answer = ''\n",
    "    while answer != 'Yes':\n",
    "        answer = str(input('Are you ready to play? Yes or No? '))\n",
    "    \n",
    "    if player1_marker == 'X':\n",
    "        marker_list = ['X','O','X','O','X','O','X','O','X']\n",
    "    else:\n",
    "        marker_list = ['O','X','O','X','O','X','O','X','O']\n",
    "    \n",
    "    board = [' ']*10\n",
    "    display_board(board)\n",
    "    \n",
    "    playing = True\n",
    "    \n",
    "    while playing:\n",
    "        index = 0\n",
    "        while index not in list(range(1,10)):\n",
    "            index = int(input(\"Please choose your placement position (from 1 to 9): \"))\n",
    "            \n",
    "        board[index] = marker_list.pop()\n",
    "        display_board(board)\n",
    "        \n",
    "        if board[1]==board[2]==board[3]==player1_marker:\n",
    "            print(\"Player 1 wins!\")\n",
    "            break\n",
    "        elif board[4]==board[5]==board[6]==player1_marker:\n",
    "            print(\"Player 1 wins!\")\n",
    "            break\n",
    "        elif board[7]==board[8]==board[9]==player1_marker:\n",
    "            print(\"Player 1 wins!\")\n",
    "            break\n",
    "        elif board[1]==board[2]==board[3]==player2_marker:\n",
    "            print(\"Player 2 wins!\")\n",
    "            break\n",
    "        elif board[4]==board[5]==board[6]==player2_marker:\n",
    "            print(\"Player 2 wins!\")\n",
    "            break\n",
    "        elif board[7]==board[8]==board[9]==player2_marker:\n",
    "            print(\"Player 2 wins!\")\n",
    "            break\n",
    "        elif board[1]==board[5]==board[9]==player1_marker:\n",
    "            print(\"Player 1 wins!\")\n",
    "            break\n",
    "        elif board[3]==board[5]==board[7]==player1_marker:\n",
    "            print(\"Player 1 wins!\")\n",
    "            break\n",
    "        elif board[1]==board[5]==board[9]==player2_marker:\n",
    "            print(\"Player 2 wins!\")\n",
    "            break\n",
    "        elif board[3]==board[5]==board[7]==player2_marker:\n",
    "            print(\"Player 2 wins!\")\n",
    "            break\n",
    "        elif board[1]==board[4]==board[7]==player1_marker:\n",
    "            print(\"Player 1 wins!\")\n",
    "            break\n",
    "        elif board[2]==board[5]==board[8]==player1_marker:\n",
    "            print(\"Player 1 wins!\")\n",
    "            break\n",
    "        elif board[3]==board[6]==board[9]==player1_marker:\n",
    "            print(\"Player 1 wins!\")\n",
    "            break\n",
    "        elif board[1]==board[4]==board[7]==player2_marker:\n",
    "            print(\"Player 2 wins!\")\n",
    "            break\n",
    "        elif board[2]==board[5]==board[8]==player2_marker:\n",
    "            print(\"Player 2 wins!\")\n",
    "            break\n",
    "        elif board[3]==board[6]==board[9]==player2_marker:\n",
    "            print(\"Player 2 wins!\")\n",
    "            break\n",
    "            \n",
    "    answer2 = ''\n",
    "    while answer2 not in ('Yes','No'):\n",
    "        answer2 = input('Thank you for playing! Do you wish to play again? Yes or No? ')\n",
    "        \n",
    "    if answer2 == 'Yes':\n",
    "        clear_output()\n",
    "        play_ttt()\n",
    "    else:\n",
    "        print('Goodbye!')"
   ]
  },
  {
   "cell_type": "code",
   "execution_count": null,
   "metadata": {
    "scrolled": true
   },
   "outputs": [],
   "source": [
    "def play_ttt():\n",
    "    print('Welcome to this Tic Tac Toe Game!')\n",
    "    playing()"
   ]
  },
  {
   "cell_type": "code",
   "execution_count": null,
   "metadata": {},
   "outputs": [],
   "source": [
    "play_ttt(\n"
   ]
  },
  {
   "cell_type": "code",
   "execution_count": null,
   "metadata": {},
   "outputs": [],
   "source": []
  },
  {
   "cell_type": "code",
   "execution_count": null,
   "metadata": {},
   "outputs": [],
   "source": []
  },
  {
   "cell_type": "code",
   "execution_count": null,
   "metadata": {},
   "outputs": [],
   "source": []
  },
  {
   "cell_type": "code",
   "execution_count": 8,
   "metadata": {},
   "outputs": [],
   "source": []
  },
  {
   "cell_type": "code",
   "execution_count": 9,
   "metadata": {},
   "outputs": [
    {
     "name": "stdout",
     "output_type": "stream",
     "text": [
      "X| | \n",
      "O|X|O\n",
      "X|O|X\n",
      "Player 1 wins!\n",
      "Thank you for playing! Do you wish to play again? No\n",
      "Goodbye!\n"
     ]
    }
   ],
   "source": []
  },
  {
   "cell_type": "code",
   "execution_count": null,
   "metadata": {},
   "outputs": [],
   "source": []
  }
 ],
 "metadata": {
  "kernelspec": {
   "display_name": "Python 3",
   "language": "python",
   "name": "python3"
  },
  "language_info": {
   "codemirror_mode": {
    "name": "ipython",
    "version": 3
   },
   "file_extension": ".py",
   "mimetype": "text/x-python",
   "name": "python",
   "nbconvert_exporter": "python",
   "pygments_lexer": "ipython3",
   "version": "3.7.1"
  }
 },
 "nbformat": 4,
 "nbformat_minor": 2
}
